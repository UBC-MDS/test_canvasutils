{
 "cells": [
  {
   "cell_type": "markdown",
   "metadata": {
    "deletable": false,
    "editable": false,
    "nbgrader": {
     "cell_type": "markdown",
     "checksum": "b9d46352d7f1cdffaf9b11d76dcc1198",
     "grade": false,
     "grade_id": "cell-db180de7c0f8d62a",
     "locked": true,
     "schema_version": 3,
     "solution": false
    }
   },
   "source": [
    "# Lab 0: Introduction to MDS homework and practice with Jupyter Notebooks"
   ]
  },
  {
   "cell_type": "markdown",
   "metadata": {
    "deletable": false,
    "editable": false,
    "nbgrader": {
     "cell_type": "markdown",
     "checksum": "81d4cc078939882da89c5f96fb0c5d86",
     "grade": false,
     "grade_id": "cell-698a6330449e9ed6",
     "locked": true,
     "schema_version": 3,
     "solution": false
    }
   },
   "source": [
    "In Lab 0, you will learn how to navigate a Jupyter Notebook (like this one). You should follow the instructions in the notebook to complete the assignment.\n",
    "\n",
    "### Submission Instructions\n",
    "rubric={mechanics:2}\n",
    "\n",
    "- [Follow the submission instruction on Canvas](https://canvas.ubc.ca/courses/53662/assignments/635976)"
   ]
  },
  {
   "cell_type": "markdown",
   "metadata": {},
   "source": [
    "## 1. Jupyter notebooks\n",
    "This webpage is called a Jupyter notebook. A notebook is a place to write programs and view their results.\n",
    "\n",
    "### 1.1. Text cells\n",
    "In a notebook, each rectangle containing text or code is called a *cell*.\n",
    "\n",
    "Text cells (like this one) can be edited by double-clicking on them. They're written in a simple format called [Markdown](http://daringfireball.net/projects/markdown/syntax) to add formatting and section headings.  You will learn more about Markdown as you go through MDS and you will use it often! \n",
    "\n",
    "After you edit a text cell, select the \"run cell\" button at the top that looks like ▶ to confirm any changes."
   ]
  },
  {
   "cell_type": "markdown",
   "metadata": {},
   "source": [
    "### Question 1.1.1.\n",
    "rubric={correctness:1}\n",
    "\n",
    "This paragraph is in its own text cell.  Try editing it so that **this** sentence is the last sentence in the paragraph, and then select the \"run cell\" ▶ button on the top.  This sentence, for example, should be deleted.  So should this one."
   ]
  },
  {
   "cell_type": "markdown",
   "metadata": {},
   "source": [
    "Now try running the code in the cells below, again using the \"run cell\" ▶ button."
   ]
  },
  {
   "cell_type": "code",
   "execution_count": null,
   "metadata": {},
   "outputs": [],
   "source": [
    "print(\"Hello, World!\")"
   ]
  },
  {
   "cell_type": "markdown",
   "metadata": {},
   "source": [
    "You can also run cells using the keyboard shortcuts `Shift+Enter`. Try using that keyboard shortcut to run the cell below: "
   ]
  },
  {
   "cell_type": "code",
   "execution_count": null,
   "metadata": {},
   "outputs": [],
   "source": [
    "print(\"\\N{WAVING HAND SIGN}\")"
   ]
  },
  {
   "cell_type": "markdown",
   "metadata": {},
   "source": [
    "You can also print many emojis by pasting them directly."
   ]
  },
  {
   "cell_type": "code",
   "execution_count": null,
   "metadata": {},
   "outputs": [],
   "source": [
    "print(\"👋\")"
   ]
  },
  {
   "cell_type": "markdown",
   "metadata": {},
   "source": [
    "The fundamental building block of Python code is an expression. Cells can contain multiple lines with multiple expressions. When you run a cell, the lines of code are executed in the order in which they appear. Every `print` expression prints a line. Run the next cell and notice the order of the output."
   ]
  },
  {
   "cell_type": "code",
   "execution_count": null,
   "metadata": {},
   "outputs": [],
   "source": [
    "print(\"First this line is printed,\")\n",
    "print(\"then this one,\")"
   ]
  },
  {
   "cell_type": "markdown",
   "metadata": {
    "deletable": false,
    "editable": false,
    "nbgrader": {
     "cell_type": "markdown",
     "checksum": "b878ac2feb14ce39702397b332a80a68",
     "grade": false,
     "grade_id": "cell-e29c6cfa11758b7c",
     "locked": true,
     "schema_version": 3,
     "solution": false
    }
   },
   "source": [
    "### Question 1.1.2.\n",
    "rubric={correctness:1}\n",
    "\n",
    "Change the cell below by replacing the following code:\n",
    "\n",
    "```\n",
    "# your code here\n",
    "raise NotImplementedError # No Answer - remove if you provide an answer\n",
    "```\n",
    "\n",
    "with another `print` expression so that it prints out:\n",
    "\n",
    "    First this line is printed,        \n",
    "    then this one,\n",
    "    and then the whole 🌏.\n",
    "\n",
    "*Hint:* If you're stuck on how to print the Earth symbol, try looking at the print expressions above."
   ]
  },
  {
   "cell_type": "code",
   "execution_count": null,
   "metadata": {
    "deletable": false,
    "nbgrader": {
     "cell_type": "code",
     "checksum": "600db8f079b15818abdc63c3fcc7b052",
     "grade": true,
     "grade_id": "cell-f7e5cc91909e08b4",
     "locked": false,
     "points": 0,
     "schema_version": 3,
     "solution": true
    }
   },
   "outputs": [],
   "source": [
    "print(\"First this line is printed,\")\n",
    "print(\"then this one,\")\n",
    "# YOUR CODE HERE\n",
    "raise NotImplementedError()"
   ]
  },
  {
   "cell_type": "markdown",
   "metadata": {},
   "source": [
    "### 1.2. Comments\n",
    "You may have noticed this line in the cell above:\n",
    "\n",
    "```\n",
    "# your code here\n",
    "```\n",
    "\n",
    "That is called a comment. It doesn't make anything happen in Python; Python ignores anything on a line after a `#`. Instead, it's there to communicate something about the code to you, the human reader. Comments are extremely useful. Comments also exist in R and use the same `#` symbol.\n",
    "\n",
    "![](https://imgs.xkcd.com/comics/future_self.png)\n",
    "\n",
    "*source: https://xkcd.com/1421/*\n"
   ]
  },
  {
   "cell_type": "markdown",
   "metadata": {},
   "source": [
    "### 1.3. Writing Jupyter notebooks\n",
    "You can use Jupyter notebooks for your own projects or documents. They are among the world's most popular programming environments for data science. When you make your own notebook, you'll need to create your own cells for text and code.\n",
    "\n",
    "To add a cell, select the + button in the menu bar.  You can change between code cell and text cell by selecting the cell so that it's highlighted, then selecting the drop-down box next to the restart (⟳) button in the menu bar, and choosing Code instead of Markdown.\n",
    "\n",
    "### Question 1.3.1.\n",
    "rubric={correctness:1}\n",
    "\n",
    "Add a code cell below this one.  Write code in it that prints out:\n",
    "   \n",
    "    A whole new cell! \n",
    "    ♪🌏♪\n",
    "\n",
    "(That musical note symbol is like the Earth symbol.  Its long-form name is `\\N{EIGHTH NOTE}`.)\n",
    "\n",
    "Run your cell to verify that it works."
   ]
  },
  {
   "cell_type": "markdown",
   "metadata": {
    "deletable": false,
    "nbgrader": {
     "cell_type": "markdown",
     "checksum": "5b2c811c9ffb8b77f2d5ca38ffda5fc4",
     "grade": true,
     "grade_id": "cell-08528d6dc121aca7",
     "locked": false,
     "points": 0,
     "schema_version": 3,
     "solution": true
    }
   },
   "source": [
    "YOUR ANSWER HERE"
   ]
  },
  {
   "cell_type": "markdown",
   "metadata": {},
   "source": [
    "### 1.4. Errors\n",
    "Python is a language, and like natural human languages, it has rules.  It differs from natural language in two important ways:\n",
    "1. The rules are *simple*.  You can learn most of them in a few weeks and gain reasonable proficiency with the language in a semester.\n",
    "2. The rules are *rigid*.  If you're proficient in a natural language, you can understand a non-proficient speaker, glossing over small mistakes.  A computer running Python code is not smart enough to do that.\n",
    "\n",
    "Whenever you write code, you'll make mistakes.  When you run a code cell that has errors, Python will sometimes produce error messages to tell you what you did wrong.\n",
    "\n",
    "Errors are okay; even experienced programmers make **many** errors.  When you make an error, you just have to find the source of the problem, fix it, and move on.\n",
    "\n",
    "We have made an error in the next cell.  Run it and see what happens."
   ]
  },
  {
   "cell_type": "code",
   "execution_count": null,
   "metadata": {},
   "outputs": [],
   "source": [
    "print(\"This line is missing something.\""
   ]
  },
  {
   "cell_type": "markdown",
   "metadata": {
    "deletable": false,
    "editable": false,
    "nbgrader": {
     "cell_type": "markdown",
     "checksum": "cb28023436877bafbb167785a11d0cd2",
     "grade": false,
     "grade_id": "cell-9cd3a68e0b404ef7",
     "locked": true,
     "schema_version": 3,
     "solution": false
    }
   },
   "source": [
    "You should see something like this (minus our annotations):\n",
    "\n",
    "![](imgs/error.jpg)\n",
    "\n",
    "The last line of the error output attempts to tell you what went wrong.  The *syntax* of a language is its structure, and this `SyntaxError` tells you that you have created an illegal structure.  \"`EOF`\" means \"end of file,\" so the message is saying Python expected you to write something more (in this case, a right parenthesis) before finishing the cell.\n",
    "\n",
    "There's a lot of terminology in programming languages. You'll learn as you go. If you are ever having trouble understanding an error message, search the discussion forum. If you don't find an answer, post a question about the error yourself.\n",
    "\n",
    "Try to fix the code above so that you can run the cell and see the intended message instead of an error."
   ]
  },
  {
   "cell_type": "markdown",
   "metadata": {
    "deletable": false,
    "editable": false,
    "nbgrader": {
     "cell_type": "markdown",
     "checksum": "6d36e45f84c888f60c5ef4795fdb8901",
     "grade": false,
     "grade_id": "cell-f7cad7d513d5f64c",
     "locked": true,
     "schema_version": 3,
     "solution": false
    }
   },
   "source": [
    "### 1.5. The Kernel\n",
    "The kernel is a program that executes the code inside your notebook and outputs the results. In the top right of your window, you can see a circle that indicates the status of your kernel. If the circle is empty (⚪), the kernel is idle and ready to execute code. If the circle is filled in (⚫), the kernel is busy running some code. \n",
    "\n",
    "You may run into problems where your kernel is stuck for an excessive amount of time, your notebook is very slow and unresponsive, or your kernel loses its connection. If this happens, try the following steps:\n",
    "1. At the top of your screen, select **Kernel**, then **Interrupt**.\n",
    "2. If that doesn't help, select **Kernel**, then **Restart**. If you do this, you will have to run your code cells from the start of your notebook up until where you paused your work.\n",
    "3. If that doesn't help, restart your server. But first, save your work by selecting **File** at the top left of your screen, then **Save**."
   ]
  },
  {
   "cell_type": "markdown",
   "metadata": {
    "deletable": false,
    "editable": false,
    "nbgrader": {
     "cell_type": "markdown",
     "checksum": "19b6fba9a0034f27e441dafeb58b28d2",
     "grade": false,
     "grade_id": "cell-feb8ce1a88f5f9da",
     "locked": true,
     "schema_version": 3,
     "solution": false
    }
   },
   "source": [
    "Jupyter can run many different kernels, meaning that you can run a Python kernel to use Python inside a Jupyter notebook AND you can also run a R kernel to use R inside a Jupyter notebook. When you are inside a Jupyter notebook the name of the kernel can be found beside the circle that tells you what your kernel is doing (⚪). This notebook is using the Python 3 kernel. "
   ]
  },
  {
   "cell_type": "markdown",
   "metadata": {
    "deletable": false,
    "editable": false,
    "nbgrader": {
     "cell_type": "markdown",
     "checksum": "23f3d6fe4d2bfc2452f17e49399c42e0",
     "grade": false,
     "grade_id": "cell-fc1b78bfe86cd7f0",
     "locked": true,
     "schema_version": 3,
     "solution": false
    }
   },
   "source": [
    "### 1.6. Autograded questions\n",
    "\n",
    "Many assignments in MDS will be distributed as notebooks like this one. At the top of each assignment, you'll see a cell like the one below that imports the code needed to run the autograder tests. Run it to import the autograder tests.\n",
    "\n"
   ]
  },
  {
   "cell_type": "code",
   "execution_count": null,
   "metadata": {
    "deletable": false,
    "editable": false,
    "nbgrader": {
     "cell_type": "code",
     "checksum": "61cd4aa2e8e617430deb96cbfba28897",
     "grade": false,
     "grade_id": "cell-f16c5488f0a93fe7",
     "locked": true,
     "schema_version": 3,
     "solution": false
    }
   },
   "outputs": [],
   "source": [
    "# Don't change this cell, just run it\n",
    "# Import code needed for autograder tests\n",
    "from hashlib import sha1"
   ]
  },
  {
   "cell_type": "markdown",
   "metadata": {
    "deletable": false,
    "editable": false,
    "nbgrader": {
     "cell_type": "markdown",
     "checksum": "a425086f29ddb5eac9c7d6ea7250125f",
     "grade": false,
     "grade_id": "cell-5014f026cb45b869",
     "locked": true,
     "schema_version": 3,
     "solution": false
    }
   },
   "source": [
    "Autograded questions start off like some of the questions you have seen above, where you have to change and replace the code that looks like this:\n",
    "\n",
    "```\n",
    "# your code here\n",
    "raise NotImplementedError # No Answer - remove if you provide an answer\n",
    "```\n",
    "In addition to this, with the autograded questions you can also run the tests to check if your answer is correct. You can run the tests as many times as you would like. If you see \"success!\" printed after running the autograding test cells that means your answer was correct. MDS labs will be a mix of manually graded and autograded questions.\n",
    "\n",
    "Let's try our first autograded question below:\n",
    "\n",
    "### Question 1.6.1\n",
    "rubric={autograde:1}\n",
    "\n",
    "In Python you can assign a value to an object using the equals sign, for example:\n",
    "\n",
    "```\n",
    "x = 5\n",
    "```\n",
    "\n",
    "creates an object named x that holds the value 5. \n",
    "\n",
    "In the cell below, create another object named y and assign it the value 10."
   ]
  },
  {
   "cell_type": "code",
   "execution_count": null,
   "metadata": {
    "deletable": false,
    "nbgrader": {
     "cell_type": "code",
     "checksum": "6eea0515658fa422370d201e74f1d5c0",
     "grade": false,
     "grade_id": "cell-f4a194e73431293b",
     "locked": false,
     "schema_version": 3,
     "solution": true
    }
   },
   "outputs": [],
   "source": [
    "# create object named y with a value of 10\n",
    "# YOUR CODE HERE\n",
    "raise NotImplementedError()\n",
    "print(y)"
   ]
  },
  {
   "cell_type": "code",
   "execution_count": null,
   "metadata": {
    "deletable": false,
    "editable": false,
    "nbgrader": {
     "cell_type": "code",
     "checksum": "e9ac973a00bfd5247d89b034d679a9a2",
     "grade": true,
     "grade_id": "cell-87a8d7a9f3fb5dad",
     "locked": true,
     "points": 0,
     "schema_version": 3,
     "solution": false
    }
   },
   "outputs": [],
   "source": [
    "# run this cell to check your answer in the cell above\n",
    "assert sha1(str(y).encode('utf8')).hexdigest() == 'b1d5781111d84f7b3fe45a0852e59758cd7a87e5', \"y should have the value of 10.\"\n",
    "print(\"success!\")"
   ]
  },
  {
   "cell_type": "markdown",
   "metadata": {},
   "source": [
    "### Submit assignment\n",
    "\n",
    "Run the cell below to submit your work:"
   ]
  },
  {
   "cell_type": "code",
   "execution_count": null,
   "metadata": {},
   "outputs": [],
   "source": [
    "from canvasutils.submit import submit\n",
    "submit(2039048, token_present=False, api_url=\"https://canvas.instructure.com/\") # default url=\"https://canvas.ubc.ca/\" which suits MDS but you can change this with argument api_url"
   ]
  },
  {
   "cell_type": "markdown",
   "metadata": {},
   "source": [
    "### Attribution\n",
    "\n",
    "- [Data 8: The Foundations of Data Science](http://data8.org/), specifically Lab 01\n",
    "- [Software Carpentry](https://software-carpentry.org/), specifically the Unix Shell and Git lessons"
   ]
  }
 ],
 "metadata": {
  "kernelspec": {
   "display_name": "Python 3",
   "language": "python",
   "name": "python3"
  },
  "language_info": {
   "codemirror_mode": {
    "name": "ipython",
    "version": 3
   },
   "file_extension": ".py",
   "mimetype": "text/x-python",
   "name": "python",
   "nbconvert_exporter": "python",
   "pygments_lexer": "ipython3",
   "version": "3.7.6"
  }
 },
 "nbformat": 4,
 "nbformat_minor": 4
}
